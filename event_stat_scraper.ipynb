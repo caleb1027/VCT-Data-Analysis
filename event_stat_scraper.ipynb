{
 "cells": [
  {
   "cell_type": "code",
   "execution_count": 1,
   "id": "42c6f96b",
   "metadata": {},
   "outputs": [],
   "source": [
    "from selenium import webdriver\n",
    "from selenium.webdriver.chrome.service import Service\n",
    "from chromedriver_py import binary_path\n",
    "import numpy as np\n",
    "import pandas as pd\n",
    "import html5lib\n",
    "from bs4 import BeautifulSoup\n",
    "import requests\n",
    "from ipynb.fs.full.event_id_scraper import event_links\n",
    "from ipynb.fs.full.year_stat_scraper import *\n",
    "from ipynb.fs.full.event_name_scraper import names"
   ]
  },
  {
   "cell_type": "code",
   "execution_count": 2,
   "id": "39498408",
   "metadata": {},
   "outputs": [],
   "source": [
    "service_object = Service(binary_path)\n",
    "driver = webdriver.Chrome(service=service_object)"
   ]
  },
  {
   "cell_type": "code",
   "execution_count": 3,
   "id": "b655f80c",
   "metadata": {
    "scrolled": true
   },
   "outputs": [
    {
     "data": {
      "text/plain": [
       "[['1130', '2190'],\n",
       " ['800', '1953'],\n",
       " ['800', '1561'],\n",
       " ['799', '1737'],\n",
       " ['799', '1559'],\n",
       " ['558', '1094'],\n",
       " ['578', '1195'],\n",
       " ['576', '1132'],\n",
       " ['520', '1131'],\n",
       " ['372', '770'],\n",
       " ['371', '769'],\n",
       " ['370', '767'],\n",
       " ['333', '690'],\n",
       " ['324', '664'],\n",
       " ['306', '618'],\n",
       " ['291', '592']]"
      ]
     },
     "execution_count": 3,
     "metadata": {},
     "output_type": "execute_result"
    }
   ],
   "source": [
    "event_ids = event_links\n",
    "event_ids"
   ]
  },
  {
   "cell_type": "markdown",
   "id": "ab5bade9",
   "metadata": {},
   "source": [
    "# Some Mock Methods\n",
    "These were written as I may end up using them in the future. Though, for the purpose of this program, they are inefficient."
   ]
  },
  {
   "cell_type": "code",
   "execution_count": 4,
   "id": "965c5870",
   "metadata": {},
   "outputs": [],
   "source": [
    "# def get_event_names(links):\n",
    "#     names = []\n",
    "#     for link in links:\n",
    "#         resp = requests.get(link)\n",
    "#         soup = BeautifulSoup(resp.text)\n",
    "#         tag = soup.find('h1', class_ = 'wf-title')\n",
    "#         names.append(tag.string.strip())\n",
    "        \n",
    "#     return(names)"
   ]
  },
  {
   "cell_type": "code",
   "execution_count": 5,
   "id": "9a0e7dc9",
   "metadata": {},
   "outputs": [],
   "source": [
    "# def get_event_year(links):\n",
    "#     years = []\n",
    "#     for link in links:\n",
    "#         resp = requests.get(link)\n",
    "#         soup = BeautifulSoup(resp.text)\n",
    "#         tag = soup.find('div', class_ = 'event-desc-item-value')\n",
    "#         tag_str = tag.string.strip()\n",
    "#         years.append(tag_str[len(tag_str)-4:])\n",
    "#     years"
   ]
  },
  {
   "cell_type": "markdown",
   "id": "89ee6a65",
   "metadata": {},
   "source": [
    "# Breaker write definition later"
   ]
  },
  {
   "cell_type": "code",
   "execution_count": 6,
   "id": "48688b57",
   "metadata": {},
   "outputs": [],
   "source": [
    "def group_event_links(event_links):\n",
    "    groups = []\n",
    "    grouped = []\n",
    "\n",
    "    for link in event_links:\n",
    "        temp = []\n",
    "        c = link[0]\n",
    "        temp.append(link)\n",
    "\n",
    "        if(c not in grouped):   \n",
    "            for i in range(1,len(event_links)):\n",
    "                #Allows for the program to be used even if event_links isn't sorted\n",
    "                if(event_links[i][0]==c and event_links[i] != link):\n",
    "                    temp.append(event_links[i])\n",
    "            groups.append(temp)\n",
    "        grouped.append(c)\n",
    "        \n",
    "    for group in groups:\n",
    "        for i in range(0, len(group)):\n",
    "            group[i] = \"https://www.vlr.gg/stats/?event_group_id=all&event_id=\"+str(group[i][0])+\"&series_id=\"+str(group[i][1])+\"&subseries_id=all&region=all&country=all&min_rounds=&min_rating=&agent=all&map_id=all&timespan=all\"\n",
    "    #Returns an array of arrays\n",
    "    #Each subarray pertains to one event (contains links to stat sheets of each main substage of that event)\n",
    "    return(groups)"
   ]
  },
  {
   "cell_type": "code",
   "execution_count": 7,
   "id": "cacc44f1",
   "metadata": {},
   "outputs": [],
   "source": [
    "def clean_data1(links):\n",
    "    player_list=[]\n",
    "    name_list=[]\n",
    "    \n",
    "    \n",
    "    for link in links:\n",
    "        driver.get(link)\n",
    "        html = driver.page_source\n",
    "        #Reads stat sheet and converts it into Pandas dataframe\n",
    "        dfs = pd.read_html(html)\n",
    "        df = dfs[0]\n",
    "        df.head(5)\n",
    "        \n",
    "        #Deletes Agents column and creates the Name and Team columns\n",
    "        del df['Agents']\n",
    "        df['Name'] = \"s\"\n",
    "        df['Team'] = \"s\"\n",
    "        \n",
    "        #Setting Name and Team columns\n",
    "        for i in df.index:\n",
    "            s = df.loc[i, 'Player'].split()\n",
    "            df.iloc[i, 19] = s[0]\n",
    "            df.iloc[i, 20]= s[1]\n",
    "        \n",
    "        del df['Player']\n",
    "\n",
    "        convert_percentage(df)\n",
    "        #Creating instances for each player\n",
    "        for x, i in enumerate(df.index):\n",
    "            #If player has already appeared previously (has a Player object), update players stats.\n",
    "            if df.loc[i]['Name'] in name_list:\n",
    "                index = name_list.index(df.loc[i]['Name'])\n",
    "                player_list[index].set_stats(df.iloc[i].to_numpy())\n",
    "            #Else, create a new player object and update stats.\n",
    "            else:\n",
    "                player_list.append(Player(df.iloc[i].to_numpy()))\n",
    "                name_list.append(df.loc[i]['Name'])\n",
    "    #Returns list of player objects that played that year\n",
    "    return (player_list)"
   ]
  },
  {
   "cell_type": "code",
   "execution_count": 8,
   "id": "625b080e",
   "metadata": {
    "scrolled": false
   },
   "outputs": [],
   "source": [
    "event_links = group_event_links(event_links)\n"
   ]
  },
  {
   "cell_type": "code",
   "execution_count": 9,
   "id": "6178748d",
   "metadata": {
    "scrolled": true
   },
   "outputs": [
    {
     "data": {
      "text/html": [
       "<div>\n",
       "<style scoped>\n",
       "    .dataframe tbody tr th:only-of-type {\n",
       "        vertical-align: middle;\n",
       "    }\n",
       "\n",
       "    .dataframe tbody tr th {\n",
       "        vertical-align: top;\n",
       "    }\n",
       "\n",
       "    .dataframe thead th {\n",
       "        text-align: right;\n",
       "    }\n",
       "</style>\n",
       "<table border=\"1\" class=\"dataframe\">\n",
       "  <thead>\n",
       "    <tr style=\"text-align: right;\">\n",
       "      <th></th>\n",
       "      <th>Player</th>\n",
       "      <th>Agents</th>\n",
       "      <th>Rnd</th>\n",
       "      <th>ACS</th>\n",
       "      <th>K:D</th>\n",
       "      <th>KAST</th>\n",
       "      <th>ADR</th>\n",
       "      <th>KPR</th>\n",
       "      <th>APR</th>\n",
       "      <th>FKPR</th>\n",
       "      <th>FDPR</th>\n",
       "      <th>HS%</th>\n",
       "      <th>CL%</th>\n",
       "      <th>CL</th>\n",
       "      <th>KMax</th>\n",
       "      <th>K</th>\n",
       "      <th>D</th>\n",
       "      <th>A</th>\n",
       "      <th>FK</th>\n",
       "      <th>FD</th>\n",
       "    </tr>\n",
       "  </thead>\n",
       "  <tbody>\n",
       "    <tr>\n",
       "      <th>0</th>\n",
       "      <td>jawgemo  EG</td>\n",
       "      <td>NaN</td>\n",
       "      <td>138</td>\n",
       "      <td>267.0</td>\n",
       "      <td>1.20</td>\n",
       "      <td>76%</td>\n",
       "      <td>170.3</td>\n",
       "      <td>0.91</td>\n",
       "      <td>0.20</td>\n",
       "      <td>0.15</td>\n",
       "      <td>0.22</td>\n",
       "      <td>24%</td>\n",
       "      <td>25%</td>\n",
       "      <td>3/12</td>\n",
       "      <td>28</td>\n",
       "      <td>125</td>\n",
       "      <td>104</td>\n",
       "      <td>28</td>\n",
       "      <td>21</td>\n",
       "      <td>31</td>\n",
       "    </tr>\n",
       "    <tr>\n",
       "      <th>1</th>\n",
       "      <td>dicey  FaZe</td>\n",
       "      <td>NaN</td>\n",
       "      <td>366</td>\n",
       "      <td>249.8</td>\n",
       "      <td>1.43</td>\n",
       "      <td>75%</td>\n",
       "      <td>162.4</td>\n",
       "      <td>0.90</td>\n",
       "      <td>0.14</td>\n",
       "      <td>0.20</td>\n",
       "      <td>0.11</td>\n",
       "      <td>28%</td>\n",
       "      <td>18%</td>\n",
       "      <td>8/45</td>\n",
       "      <td>30</td>\n",
       "      <td>331</td>\n",
       "      <td>231</td>\n",
       "      <td>53</td>\n",
       "      <td>73</td>\n",
       "      <td>40</td>\n",
       "    </tr>\n",
       "    <tr>\n",
       "      <th>2</th>\n",
       "      <td>yay  OPTC</td>\n",
       "      <td>NaN</td>\n",
       "      <td>207</td>\n",
       "      <td>247.5</td>\n",
       "      <td>1.29</td>\n",
       "      <td>72%</td>\n",
       "      <td>159.3</td>\n",
       "      <td>0.86</td>\n",
       "      <td>0.15</td>\n",
       "      <td>0.21</td>\n",
       "      <td>0.09</td>\n",
       "      <td>25%</td>\n",
       "      <td>5%</td>\n",
       "      <td>1/21</td>\n",
       "      <td>34</td>\n",
       "      <td>177</td>\n",
       "      <td>137</td>\n",
       "      <td>32</td>\n",
       "      <td>44</td>\n",
       "      <td>19</td>\n",
       "    </tr>\n",
       "    <tr>\n",
       "      <th>3</th>\n",
       "      <td>Cryocells  XSET</td>\n",
       "      <td>NaN</td>\n",
       "      <td>307</td>\n",
       "      <td>246.2</td>\n",
       "      <td>1.45</td>\n",
       "      <td>75%</td>\n",
       "      <td>153.3</td>\n",
       "      <td>0.94</td>\n",
       "      <td>0.09</td>\n",
       "      <td>0.16</td>\n",
       "      <td>0.11</td>\n",
       "      <td>26%</td>\n",
       "      <td>7%</td>\n",
       "      <td>2/30</td>\n",
       "      <td>35</td>\n",
       "      <td>289</td>\n",
       "      <td>200</td>\n",
       "      <td>27</td>\n",
       "      <td>50</td>\n",
       "      <td>34</td>\n",
       "    </tr>\n",
       "    <tr>\n",
       "      <th>4</th>\n",
       "      <td>Victor  OPTC</td>\n",
       "      <td>NaN</td>\n",
       "      <td>207</td>\n",
       "      <td>242.9</td>\n",
       "      <td>1.08</td>\n",
       "      <td>72%</td>\n",
       "      <td>152.7</td>\n",
       "      <td>0.81</td>\n",
       "      <td>0.27</td>\n",
       "      <td>0.16</td>\n",
       "      <td>0.14</td>\n",
       "      <td>23%</td>\n",
       "      <td>10%</td>\n",
       "      <td>1/10</td>\n",
       "      <td>24</td>\n",
       "      <td>168</td>\n",
       "      <td>156</td>\n",
       "      <td>55</td>\n",
       "      <td>34</td>\n",
       "      <td>29</td>\n",
       "    </tr>\n",
       "  </tbody>\n",
       "</table>\n",
       "</div>"
      ],
      "text/plain": [
       "            Player Agents  Rnd    ACS   K:D KAST    ADR   KPR   APR  FKPR  \\\n",
       "0      jawgemo  EG    NaN  138  267.0  1.20  76%  170.3  0.91  0.20  0.15   \n",
       "1      dicey  FaZe    NaN  366  249.8  1.43  75%  162.4  0.90  0.14  0.20   \n",
       "2        yay  OPTC    NaN  207  247.5  1.29  72%  159.3  0.86  0.15  0.21   \n",
       "3  Cryocells  XSET    NaN  307  246.2  1.45  75%  153.3  0.94  0.09  0.16   \n",
       "4     Victor  OPTC    NaN  207  242.9  1.08  72%  152.7  0.81  0.27  0.16   \n",
       "\n",
       "   FDPR  HS%  CL%    CL  KMax    K    D   A  FK  FD  \n",
       "0  0.22  24%  25%  3/12    28  125  104  28  21  31  \n",
       "1  0.11  28%  18%  8/45    30  331  231  53  73  40  \n",
       "2  0.09  25%   5%  1/21    34  177  137  32  44  19  \n",
       "3  0.11  26%   7%  2/30    35  289  200  27  50  34  \n",
       "4  0.14  23%  10%  1/10    24  168  156  55  34  29  "
      ]
     },
     "execution_count": 9,
     "metadata": {},
     "output_type": "execute_result"
    }
   ],
   "source": [
    "dfs = pd.read_html(event_links[1][0])\n",
    "df = dfs[0]\n",
    "df.head(5)"
   ]
  },
  {
   "cell_type": "code",
   "execution_count": 10,
   "id": "db2eead5",
   "metadata": {},
   "outputs": [
    {
     "data": {
      "text/plain": [
       "<selenium.webdriver.chrome.webdriver.WebDriver (session=\"0a375b93d871281d145e336d1dd28361\")>"
      ]
     },
     "execution_count": 10,
     "metadata": {},
     "output_type": "execute_result"
    }
   ],
   "source": [
    "driver.get(event_links[0][0])\n",
    "driver"
   ]
  },
  {
   "cell_type": "code",
   "execution_count": 11,
   "id": "7ac2217b",
   "metadata": {},
   "outputs": [
    {
     "data": {
      "text/plain": [
       "['LCQ2022',\n",
       " 'S2C2022',\n",
       " 'S1C2022',\n",
       " 'LCQ2021',\n",
       " 'S3CPlayoffs2021',\n",
       " 'S3C22021',\n",
       " 'S3C12021',\n",
       " 'S2CFinals2021',\n",
       " 'S2C22021',\n",
       " 'S2C12021',\n",
       " 'S1Masters2021',\n",
       " 'S1C32021',\n",
       " 'S1C22021',\n",
       " 'S1C12021']"
      ]
     },
     "execution_count": 11,
     "metadata": {},
     "output_type": "execute_result"
    }
   ],
   "source": [
    "for i in range(0, len(names)):\n",
    "    names[i] = names[i].replace(':','')\n",
    "names"
   ]
  },
  {
   "cell_type": "code",
   "execution_count": 12,
   "id": "2a9b695c",
   "metadata": {},
   "outputs": [],
   "source": [
    "for i in range(0, len(event_links)):\n",
    "    tdf = pd.DataFrame(columns = ['Name', 'Team','Rounds Played', 'ACS', 'KPR', 'APR', 'K:D', 'KAST', 'ADR', 'HS%', 'FKPR', 'FDPR','FK:FD', 'Clutch %'])\n",
    "    player_list = clean_data1((event_links[i]))\n",
    "\n",
    "\n",
    "    for player in player_list:\n",
    "        tdf.loc[len(tdf)] = player.get_stats()\n",
    "\n",
    "    tdf.to_excel(names[i]+'VCTNA.xlsx', sheet_name='Stats')"
   ]
  }
 ],
 "metadata": {
  "kernelspec": {
   "display_name": "Python 3 (ipykernel)",
   "language": "python",
   "name": "python3"
  },
  "language_info": {
   "codemirror_mode": {
    "name": "ipython",
    "version": 3
   },
   "file_extension": ".py",
   "mimetype": "text/x-python",
   "name": "python",
   "nbconvert_exporter": "python",
   "pygments_lexer": "ipython3",
   "version": "3.10.5"
  }
 },
 "nbformat": 4,
 "nbformat_minor": 5
}
