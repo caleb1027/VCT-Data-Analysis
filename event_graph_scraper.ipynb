{
 "cells": [
  {
   "cell_type": "markdown",
   "id": "cb1c5701",
   "metadata": {},
   "source": [
    "# Event Stat Scraper (places all stats into array)\n",
    "\n",
    "### Scrapes statistics of players in each event and converts it into a graph."
   ]
  },
  {
   "cell_type": "code",
   "execution_count": 4,
   "id": "6e4ed1f9",
   "metadata": {},
   "outputs": [],
   "source": [
    "import numpy as np\n",
    "import pandas as pd\n",
    "import html5lib\n",
    "from bs4 import BeautifulSoup\n",
    "import requests"
   ]
  },
  {
   "cell_type": "code",
   "execution_count": null,
   "id": "6643140e",
   "metadata": {},
   "outputs": [],
   "source": [
    "from platform import python_version\n",
    "python_version()\n"
   ]
  },
  {
   "cell_type": "code",
   "execution_count": null,
   "id": "c0ea44eb",
   "metadata": {},
   "outputs": [],
   "source": [
    "event_links = ['/event/matches/1130/?series_id=2190',\n",
    " '/event/matches/800/?series_id=1953',\n",
    " '/event/matches/800/?series_id=1561',\n",
    " '/event/matches/799/?series_id=1737',\n",
    " '/event/matches/799/?series_id=1559',\n",
    " '/event/matches/558/?series_id=1094',\n",
    " '/event/matches/578/?series_id=1195',\n",
    " '/event/matches/576/?series_id=1132',\n",
    " '/event/matches/520/?series_id=1131',\n",
    " '/event/matches/372/?series_id=770',\n",
    " '/event/matches/371/?series_id=769',\n",
    " '/event/matches/370/?series_id=767',\n",
    " '/event/matches/333/?series_id=690',\n",
    " '/event/matches/324/?series_id=664',\n",
    " '/event/matches/306/?series_id=618',\n",
    " '/event/matches/291/?series_id=592']\n"
   ]
  },
  {
   "cell_type": "code",
   "execution_count": null,
   "id": "3229c477",
   "metadata": {},
   "outputs": [],
   "source": [
    "for i in range(0, len(event_links)):\n",
    "    event_links[i]= \"http://vlr.gg\"+event_links[i]\n",
    "event_links.pop(0)\n",
    "event_links"
   ]
  },
  {
   "cell_type": "code",
   "execution_count": null,
   "id": "eaf61c89",
   "metadata": {},
   "outputs": [],
   "source": [
    "all_links = []\n",
    "for event in event_links:\n",
    "    resp = requests.get(event)\n",
    "    soup = BeautifulSoup(resp.text)\n",
    "    first_match_list = soup.find_all('a', class_='wf-module-item match-item mod-color mod-left mod-bg-after-red mod-first', href = True)\n",
    "    second_match_list = soup.find_all('a', class_='wf-module-item match-item mod-color mod-left mod-bg-after-red', href = True)\n",
    "    match_list = first_match_list + second_match_list\n",
    "\n",
    "    link_list = []\n",
    "\n",
    "    for match in match_list:\n",
    "        link_list.append(match['href'])\n",
    "\n",
    "    for i, link in enumerate(link_list):\n",
    "        link_list[i] = \"https://vlr.gg\"+link_list[i]+\"?game=all&tab=overview\"\n",
    "\n",
    "    all_links += link_list\n",
    "all_links"
   ]
  },
  {
   "cell_type": "code",
   "execution_count": null,
   "id": "d5f5a7a5",
   "metadata": {},
   "outputs": [],
   "source": [
    "def clean_data(df):\n",
    "    df.drop('Unnamed: 1', axis=1, inplace=True)\n",
    "    df['Name'] = 'x'\n",
    "    df['Team'] = 'x'\n",
    "\n",
    "    for i in df.index:\n",
    "        s = df.at[i, 'Unnamed: 0'].split()\n",
    "        df.at[i,'Name'] = s[0]\n",
    "        df.at[i,'Team']= s[1]\n",
    "    \n",
    "    df.drop('Unnamed: 0', axis=1, inplace=True)\n",
    "    df.drop('+/–', axis=1, inplace=True)\n",
    "    df.drop('+/–.1', axis=1, inplace=True)\n",
    "\n",
    "    \n",
    "    for i in df.index:\n",
    "        for col in df.columns:\n",
    "            if(isinstance(df.at[i,col], np.float64)):\n",
    "                df.at[i, col] = 0\n",
    "            else:\n",
    "                s = df.at[i, col].split(\" \")\n",
    "                df.at[i,col] = s[0]\n",
    "                if col == 'D':\n",
    "                    df.at[i,col] = s[2]\n",
    "\n",
    "\n"
   ]
  },
  {
   "cell_type": "code",
   "execution_count": null,
   "id": "10b0cd63",
   "metadata": {},
   "outputs": [],
   "source": [
    "def convert_percentage(df):\n",
    "    for i in df.index:\n",
    "         #Cleaning KAST Percentages\n",
    "        if(type(df.at[i, 'KAST'])==float):\n",
    "            df.at[i, 'KAST'] = 0\n",
    "        #Adjusts for if KAST was not recorded in the stats    \n",
    "        elif(isinstance(df.at[i,'KAST'], np.floating)):\n",
    "            df.at[i,'KAST'] = -1\n",
    "        else:\n",
    "            df.at[i,'KAST']= df.at[i,'KAST'].replace('%','')\n",
    "        \n",
    "        #Cleaning Headshot Percentages\n",
    "        #Adjusts for if HS% was not recorded in the stats or player didn't headshot\n",
    "        if(type(df.at[i,'HS%'])==float):\n",
    "            df.at[i,'HS%'] = 0\n",
    "        else:\n",
    "            df.at[i,'HS%'] = df.at[i,'HS%'].replace('%','')\n",
    "        \n",
    "        #Cleaning Clutch Percentages\n",
    "        #Adjusts for if KAST was not recorded in the stats or the player had no clutches  \n",
    "        if 'CL%' in df.columns:\n",
    "            if(type(df.at[i,'CL%'])==float):\n",
    "                df.at[i,'CL%'] = 0\n",
    "            else:\n",
    "                df.at[i,'CL%'] = df.at[i,'CL%'].replace('%','')"
   ]
  },
  {
   "cell_type": "code",
   "execution_count": null,
   "id": "7264b597",
   "metadata": {
    "scrolled": false
   },
   "outputs": [],
   "source": [
    "dfs = pd.read_html(link_list[0])\n",
    "df = dfs[3]\n",
    "df1 = dfs[2]\n",
    "df.head(5)"
   ]
  },
  {
   "cell_type": "code",
   "execution_count": null,
   "id": "3cb1bf74",
   "metadata": {},
   "outputs": [],
   "source": [
    "clean_data(df)\n",
    "df.head(5)"
   ]
  },
  {
   "cell_type": "code",
   "execution_count": null,
   "id": "120762de",
   "metadata": {},
   "outputs": [],
   "source": [
    "class Player():\n",
    "    def __init__(self, arr):\n",
    "        self.name = arr[9]\n",
    "        self.team = arr[10]\n",
    "        self.acs = [float(arr[0])]\n",
    "        self.k =[float(arr[1])] \n",
    "        self.d =[float(arr[2])]  \n",
    "        self.a =[float(arr[3])] \n",
    "        self.kast =[float(arr[4])] \n",
    "        self.adr =[float(arr[5])] \n",
    "        self.hsp =[float(arr[6])] \n",
    "        self.fk =[float(arr[7])] \n",
    "        self.fd =[float(arr[8])] \n",
    "        self.games = []\n",
    "    \n",
    "    def set_stats(self, arr):\n",
    "        self.acs.append(float(arr[0]))\n",
    "        self.k.append(float(arr[1]) )\n",
    "        self.d.append(float(arr[2]))  \n",
    "        self.a.append(float(arr[3])) \n",
    "        self.kast.append(float(arr[4])) \n",
    "        self.adr.append(float(arr[5])) \n",
    "        self.hsp.append(float(arr[6])) \n",
    "        self.fk.append(float(arr[7]))\n",
    "        self.fd.append(float(arr[8])) \n",
    "    def get_name(self):\n",
    "        return self.name\n",
    "    \n",
    "    def get_stats(self):\n",
    "        return [self.name, self.team, self.acs, self.k, self.d, self.a, self.kast, self.adr, self.hsp, self.fk, self.fd]"
   ]
  },
  {
   "cell_type": "code",
   "execution_count": null,
   "id": "a0caed29",
   "metadata": {},
   "outputs": [],
   "source": [
    "player_names =[]\n",
    "player_list =[]"
   ]
  },
  {
   "cell_type": "code",
   "execution_count": null,
   "id": "926254bf",
   "metadata": {},
   "outputs": [],
   "source": [
    "for link in all_links:\n",
    "    dfs = pd.read_html(link)\n",
    "    df = dfs[2]\n",
    "    df1 = dfs[3]\n",
    "    clean_data(df)\n",
    "    clean_data(df1)\n",
    "    convert_percentage(df)\n",
    "    convert_percentage(df1)\n",
    "    for x, i in enumerate(df.index):\n",
    "        if df.iloc[i]['Name'] in player_names:\n",
    "            index = player_names.index(df.iloc[i]['Name'])\n",
    "            player_list[index].set_stats(df.iloc[i].to_numpy())\n",
    "        else:\n",
    "            player_list.append(Player(df.iloc[i].to_numpy()))\n",
    "            player_names.append(df.iloc[i]['Name'])\n",
    "    for x, i in enumerate(df1.index):\n",
    "        if df1.iloc[i]['Name'] in player_names:\n",
    "\n",
    "            index = player_names.index(df1.iloc[i]['Name'])\n",
    "            player_list[index].set_stats(df1.iloc[i].to_numpy())\n",
    "        else:\n",
    "            player_list.append(Player(df1.iloc[i].to_numpy()))\n",
    "            player_names.append(df1.iloc[i]['Name'])"
   ]
  },
  {
   "cell_type": "code",
   "execution_count": null,
   "id": "8eec1415",
   "metadata": {},
   "outputs": [],
   "source": [
    "player_list[6].__dict__"
   ]
  },
  {
   "cell_type": "code",
   "execution_count": null,
   "id": "dd08b29d",
   "metadata": {},
   "outputs": [],
   "source": []
  }
 ],
 "metadata": {
  "kernelspec": {
   "display_name": "Python 3 (ipykernel)",
   "language": "python",
   "name": "python3"
  },
  "language_info": {
   "codemirror_mode": {
    "name": "ipython",
    "version": 3
   },
   "file_extension": ".py",
   "mimetype": "text/x-python",
   "name": "python",
   "nbconvert_exporter": "python",
   "pygments_lexer": "ipython3",
   "version": "3.9.13"
  }
 },
 "nbformat": 4,
 "nbformat_minor": 5
}
