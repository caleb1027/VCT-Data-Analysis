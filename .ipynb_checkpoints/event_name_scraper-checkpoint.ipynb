{
 "cells": [
  {
   "cell_type": "code",
   "execution_count": 1,
   "id": "e58c3f82",
   "metadata": {},
   "outputs": [],
   "source": [
    "import numpy as np\n",
    "import pandas as pd\n",
    "import html5lib\n",
    "from bs4 import BeautifulSoup\n",
    "import requests\n",
    "from ipynb.fs.full.event_id_scraper import event_links\n",
    "from ipynb.fs.full.year_stat_scraper import *"
   ]
  },
  {
   "cell_type": "markdown",
   "id": "d20dac2d",
   "metadata": {},
   "source": [
    "# get_event_titles: finds year, event name from link"
   ]
  },
  {
   "cell_type": "code",
   "execution_count": 2,
   "id": "6f855269",
   "metadata": {},
   "outputs": [],
   "source": [
    "def get_event_titles(links):\n",
    "    names = []\n",
    "    years = []\n",
    "    titles = []\n",
    "    links = link_from_id(event_links)\n",
    "    \n",
    "    for link in links:\n",
    "        resp = requests.get(link)\n",
    "        soup = BeautifulSoup(resp.text)\n",
    "\n",
    "        title_tag = soup.find('h1', class_ = 'wf-title')\n",
    "        names.append(title_tag.string.strip())\n",
    "\n",
    "        year_tag = soup.find('div', class_ = 'event-desc-item-value')\n",
    "        tag_str = year_tag.string.strip()\n",
    "        years.append(tag_str[len(tag_str)-4:])\n",
    "\n",
    "    for i in range(0, len(names)):\n",
    "        names[i] = names[i][29:].strip()\n",
    "        names[i] = names[i].replace(' ','')\n",
    "        names[i] = names[i].replace('LastChanceQualifier', 'LCQ')\n",
    "        names[i] = names[i].replace('Stage', 'S')\n",
    "        names[i] = names[i].replace('Challengers', 'C')\n",
    "\n",
    "    for i in range(0, len(years)):\n",
    "        string = names[i]+str(years[i])\n",
    "        titles.append(string)\n",
    "    return(titles)    "
   ]
  },
  {
   "cell_type": "code",
   "execution_count": 5,
   "id": "3c305067",
   "metadata": {},
   "outputs": [],
   "source": [
    "def link_from_id(event_links):\n",
    "    ids = []\n",
    "    links = []\n",
    "    \n",
    "    for event in event_links:\n",
    "        if (event[0] not in ids):\n",
    "            ids.append(event[0])\n",
    "            links.append(\"https://www.vlr.gg/event/\"+str(event[0]))\n",
    "    return(links)"
   ]
  },
  {
   "cell_type": "code",
   "execution_count": 6,
   "id": "ca64d1dc",
   "metadata": {},
   "outputs": [
    {
     "data": {
      "text/plain": [
       "['LCQ2022',\n",
       " 'S2:C2022',\n",
       " 'S1:C2022',\n",
       " 'LCQ2021',\n",
       " 'S3:CPlayoffs2021',\n",
       " 'S3:C22021',\n",
       " 'S3:C12021',\n",
       " 'S2:CFinals2021',\n",
       " 'S2:C22021',\n",
       " 'S2:C12021',\n",
       " 'S1:Masters2021',\n",
       " 'S1:C32021',\n",
       " 'S1:C22021',\n",
       " 'S1:C12021']"
      ]
     },
     "execution_count": 6,
     "metadata": {},
     "output_type": "execute_result"
    }
   ],
   "source": [
    "names = get_event_titles(event_links)\n",
    "names"
   ]
  }
 ],
 "metadata": {
  "kernelspec": {
   "display_name": "Python 3 (ipykernel)",
   "language": "python",
   "name": "python3"
  },
  "language_info": {
   "codemirror_mode": {
    "name": "ipython",
    "version": 3
   },
   "file_extension": ".py",
   "mimetype": "text/x-python",
   "name": "python",
   "nbconvert_exporter": "python",
   "pygments_lexer": "ipython3",
   "version": "3.10.5"
  }
 },
 "nbformat": 4,
 "nbformat_minor": 5
}
