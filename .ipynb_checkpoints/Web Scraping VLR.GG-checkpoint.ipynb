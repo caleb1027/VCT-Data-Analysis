{
 "cells": [
  {
   "cell_type": "markdown",
   "id": "691f4d5b",
   "metadata": {},
   "source": [
    "## Importing Packages"
   ]
  },
  {
   "cell_type": "code",
   "execution_count": 1,
   "id": "0d78d651",
   "metadata": {},
   "outputs": [],
   "source": [
    "import requests\n",
    "from bs4 import BeautifulSoup\n",
    "import numpy as np\n",
    "import pandas as pd\n",
    "import html5lib"
   ]
  },
  {
   "cell_type": "markdown",
   "id": "52050d9e",
   "metadata": {},
   "source": [
    "## Downloading Page"
   ]
  },
  {
   "cell_type": "code",
   "execution_count": 2,
   "id": "3ad4c555",
   "metadata": {},
   "outputs": [
    {
     "data": {
      "text/plain": [
       "<Response [200]>"
      ]
     },
     "execution_count": 2,
     "metadata": {},
     "output_type": "execute_result"
    }
   ],
   "source": [
    "resp = requests.get(\"https://www.vlr.gg/event/matches/800/champions-tour-north-america-stage-2-challengers/?series_id=1561\")\n",
    "resp"
   ]
  },
  {
   "cell_type": "code",
   "execution_count": 3,
   "id": "4ec91f4d",
   "metadata": {
    "scrolled": false
   },
   "outputs": [],
   "source": [
    "soup = BeautifulSoup(resp.text)\n",
    "#print(soup.prettify())\n"
   ]
  },
  {
   "cell_type": "markdown",
   "id": "59eac7fc",
   "metadata": {},
   "source": [
    "## Finding Links to Individual Matches\n"
   ]
  },
  {
   "cell_type": "code",
   "execution_count": 4,
   "id": "46d4a636",
   "metadata": {
    "scrolled": true
   },
   "outputs": [
    {
     "data": {
      "text/plain": [
       "['https://vlr.gg/99686/the-guard-vs-100-thieves-champions-tour-north-america-stage-2-challengers-w1?game=all&tab=overview',\n",
       " 'https://vlr.gg/99688/optic-gaming-vs-faze-clan-champions-tour-north-america-stage-2-challengers-w1?game=all&tab=overview',\n",
       " 'https://vlr.gg/99690/nrg-esports-vs-tsm-champions-tour-north-america-stage-2-challengers-w1?game=all&tab=overview',\n",
       " 'https://vlr.gg/99692/faze-clan-vs-luminosity-champions-tour-north-america-stage-2-challengers-w2?game=all&tab=overview',\n",
       " 'https://vlr.gg/99694/tsm-vs-100-thieves-champions-tour-north-america-stage-2-challengers-w2?game=all&tab=overview',\n",
       " 'https://vlr.gg/99696/optic-gaming-vs-cloud9-champions-tour-north-america-stage-2-challengers-w2?game=all&tab=overview',\n",
       " 'https://vlr.gg/99704/the-guard-vs-tsm-champions-tour-north-america-stage-2-challengers-w3?game=all&tab=overview',\n",
       " 'https://vlr.gg/99706/sentinels-vs-optic-gaming-champions-tour-north-america-stage-2-challengers-w3?game=all&tab=overview',\n",
       " 'https://vlr.gg/99708/faze-clan-vs-cloud9-champions-tour-north-america-stage-2-challengers-w3?game=all&tab=overview',\n",
       " 'https://vlr.gg/99710/the-guard-vs-xset-champions-tour-north-america-stage-2-challengers-w4?game=all&tab=overview',\n",
       " 'https://vlr.gg/99712/sentinels-vs-faze-clan-champions-tour-north-america-stage-2-challengers-w4?game=all&tab=overview',\n",
       " 'https://vlr.gg/99714/nrg-esports-vs-100-thieves-champions-tour-north-america-stage-2-challengers-w4?game=all&tab=overview',\n",
       " 'https://vlr.gg/99716/xset-vs-tsm-champions-tour-north-america-stage-2-challengers-w5?game=all&tab=overview',\n",
       " 'https://vlr.gg/99718/nrg-esports-vs-the-guard-champions-tour-north-america-stage-2-challengers-w5?game=all&tab=overview',\n",
       " 'https://vlr.gg/99720/cloud9-vs-sentinels-champions-tour-north-america-stage-2-challengers-w5?game=all&tab=overview',\n",
       " 'https://vlr.gg/99687/luminosity-vs-sentinels-champions-tour-north-america-stage-2-challengers-w1?game=all&tab=overview',\n",
       " 'https://vlr.gg/99689/xset-vs-ghost-gaming-champions-tour-north-america-stage-2-challengers-w1?game=all&tab=overview',\n",
       " 'https://vlr.gg/99691/cloud9-vs-evil-geniuses-champions-tour-north-america-stage-2-challengers-w1?game=all&tab=overview',\n",
       " 'https://vlr.gg/99693/ghost-gaming-vs-the-guard-champions-tour-north-america-stage-2-challengers-w2?game=all&tab=overview',\n",
       " 'https://vlr.gg/99695/evil-geniuses-vs-sentinels-champions-tour-north-america-stage-2-challengers-w2?game=all&tab=overview',\n",
       " 'https://vlr.gg/99697/xset-vs-nrg-esports-champions-tour-north-america-stage-2-challengers-w2?game=all&tab=overview',\n",
       " 'https://vlr.gg/99705/luminosity-vs-evil-geniuses-champions-tour-north-america-stage-2-challengers-w3?game=all&tab=overview',\n",
       " 'https://vlr.gg/99707/100-thieves-vs-xset-champions-tour-north-america-stage-2-challengers-w3?game=all&tab=overview',\n",
       " 'https://vlr.gg/99709/ghost-gaming-vs-nrg-esports-champions-tour-north-america-stage-2-challengers-w3?game=all&tab=overview',\n",
       " 'https://vlr.gg/99711/evil-geniuses-vs-optic-gaming-champions-tour-north-america-stage-2-challengers-w4?game=all&tab=overview',\n",
       " 'https://vlr.gg/99713/tsm-vs-ghost-gaming-champions-tour-north-america-stage-2-challengers-w4?game=all&tab=overview',\n",
       " 'https://vlr.gg/99715/cloud9-vs-luminosity-champions-tour-north-america-stage-2-challengers-w4?game=all&tab=overview',\n",
       " 'https://vlr.gg/99717/faze-clan-vs-evil-geniuses-champions-tour-north-america-stage-2-challengers-w5?game=all&tab=overview',\n",
       " 'https://vlr.gg/99719/100-thieves-vs-ghost-gaming-champions-tour-north-america-stage-2-challengers-w5?game=all&tab=overview',\n",
       " 'https://vlr.gg/99721/optic-gaming-vs-luminosity-champions-tour-north-america-stage-2-challengers-w5?game=all&tab=overview']"
      ]
     },
     "execution_count": 4,
     "metadata": {},
     "output_type": "execute_result"
    }
   ],
   "source": [
    "first_match_list = soup.find_all('a', class_='wf-module-item match-item mod-color mod-left mod-bg-after-red mod-first', href = True)\n",
    "second_match_list = soup.find_all('a', class_='wf-module-item match-item mod-color mod-left mod-bg-after-red', href = True)\n",
    "match_list = first_match_list + second_match_list\n",
    "\n",
    "link_list = []\n",
    "\n",
    "for match in match_list:\n",
    "    link_list.append(match['href'])\n",
    "    \n",
    "for i, link in enumerate(link_list):\n",
    "    link_list[i] = \"https://vlr.gg\"+link_list[i]+\"?game=all&tab=overview\"\n",
    "    \n",
    "link_list"
   ]
  },
  {
   "cell_type": "markdown",
   "id": "56296c43",
   "metadata": {},
   "source": [
    "## Scraping and Cleaning Data From Each Match\n",
    "need df 2 and 3 for overall"
   ]
  },
  {
   "cell_type": "code",
   "execution_count": 5,
   "id": "264df721",
   "metadata": {
    "scrolled": true
   },
   "outputs": [
    {
     "data": {
      "text/html": [
       "<div>\n",
       "<style scoped>\n",
       "    .dataframe tbody tr th:only-of-type {\n",
       "        vertical-align: middle;\n",
       "    }\n",
       "\n",
       "    .dataframe tbody tr th {\n",
       "        vertical-align: top;\n",
       "    }\n",
       "\n",
       "    .dataframe thead th {\n",
       "        text-align: right;\n",
       "    }\n",
       "</style>\n",
       "<table border=\"1\" class=\"dataframe\">\n",
       "  <thead>\n",
       "    <tr style=\"text-align: right;\">\n",
       "      <th></th>\n",
       "      <th>Unnamed: 0</th>\n",
       "      <th>Unnamed: 1</th>\n",
       "      <th>ACS</th>\n",
       "      <th>K</th>\n",
       "      <th>D</th>\n",
       "      <th>A</th>\n",
       "      <th>+/–</th>\n",
       "      <th>KAST</th>\n",
       "      <th>ADR</th>\n",
       "      <th>HS%</th>\n",
       "      <th>FK</th>\n",
       "      <th>FD</th>\n",
       "      <th>+/–.1</th>\n",
       "    </tr>\n",
       "  </thead>\n",
       "  <tbody>\n",
       "    <tr>\n",
       "      <th>0</th>\n",
       "      <td>Asuna 100T</td>\n",
       "      <td>NaN</td>\n",
       "      <td>284  344  219</td>\n",
       "      <td>38  25  13</td>\n",
       "      <td>/  23  8  15  /</td>\n",
       "      <td>8  4  4</td>\n",
       "      <td>+15  +17  -2</td>\n",
       "      <td>76%  79%  72%</td>\n",
       "      <td>182  219  144</td>\n",
       "      <td>20%  18%  23%</td>\n",
       "      <td>4  3  1</td>\n",
       "      <td>6  4  2</td>\n",
       "      <td>-2  -1  -1</td>\n",
       "    </tr>\n",
       "    <tr>\n",
       "      <th>1</th>\n",
       "      <td>stellar 100T</td>\n",
       "      <td>NaN</td>\n",
       "      <td>224  183  270</td>\n",
       "      <td>34  13  21</td>\n",
       "      <td>/  17  8  9  /</td>\n",
       "      <td>12  5  7</td>\n",
       "      <td>+17  +5  +12</td>\n",
       "      <td>89%  89%  89%</td>\n",
       "      <td>146  122  171</td>\n",
       "      <td>16%  13%  19%</td>\n",
       "      <td>1  1  0</td>\n",
       "      <td>1  1  0</td>\n",
       "      <td>0  0  0</td>\n",
       "    </tr>\n",
       "    <tr>\n",
       "      <th>2</th>\n",
       "      <td>Will 100T</td>\n",
       "      <td>NaN</td>\n",
       "      <td>222  229  214</td>\n",
       "      <td>27  16  11</td>\n",
       "      <td>/  24  8  16  /</td>\n",
       "      <td>10  3  7</td>\n",
       "      <td>+3  +8  -5</td>\n",
       "      <td>70%  79%  61%</td>\n",
       "      <td>133  130  137</td>\n",
       "      <td>20%  21%  20%</td>\n",
       "      <td>7  3  4</td>\n",
       "      <td>6  2  4</td>\n",
       "      <td>+1  +1  0</td>\n",
       "    </tr>\n",
       "    <tr>\n",
       "      <th>3</th>\n",
       "      <td>bang 100T</td>\n",
       "      <td>NaN</td>\n",
       "      <td>219  202  234</td>\n",
       "      <td>29  14  15</td>\n",
       "      <td>/  24  11  13  /</td>\n",
       "      <td>12  6  6</td>\n",
       "      <td>+5  +3  +2</td>\n",
       "      <td>73%  74%  72%</td>\n",
       "      <td>128  127  129</td>\n",
       "      <td>35%  43%  28%</td>\n",
       "      <td>5  1  4</td>\n",
       "      <td>3  1  2</td>\n",
       "      <td>+2  0  +2</td>\n",
       "    </tr>\n",
       "    <tr>\n",
       "      <th>4</th>\n",
       "      <td>Derrek 100T</td>\n",
       "      <td>NaN</td>\n",
       "      <td>139  226  47</td>\n",
       "      <td>17  15  2</td>\n",
       "      <td>/  24  13  11  /</td>\n",
       "      <td>14  7  7</td>\n",
       "      <td>-7  +2  -9</td>\n",
       "      <td>76%  79%  72%</td>\n",
       "      <td>95  153  34</td>\n",
       "      <td>25%  25%  27%</td>\n",
       "      <td>2  2  0</td>\n",
       "      <td>2  1  1</td>\n",
       "      <td>0  +1  -1</td>\n",
       "    </tr>\n",
       "  </tbody>\n",
       "</table>\n",
       "</div>"
      ],
      "text/plain": [
       "     Unnamed: 0  Unnamed: 1            ACS           K                 D  \\\n",
       "0    Asuna 100T         NaN  284  344  219  38  25  13   /  23  8  15  /   \n",
       "1  stellar 100T         NaN  224  183  270  34  13  21    /  17  8  9  /   \n",
       "2     Will 100T         NaN  222  229  214  27  16  11   /  24  8  16  /   \n",
       "3     bang 100T         NaN  219  202  234  29  14  15  /  24  11  13  /   \n",
       "4   Derrek 100T         NaN   139  226  47   17  15  2  /  24  13  11  /   \n",
       "\n",
       "          A           +/–           KAST            ADR            HS%  \\\n",
       "0   8  4  4  +15  +17  -2  76%  79%  72%  182  219  144  20%  18%  23%   \n",
       "1  12  5  7  +17  +5  +12  89%  89%  89%  146  122  171  16%  13%  19%   \n",
       "2  10  3  7    +3  +8  -5  70%  79%  61%  133  130  137  20%  21%  20%   \n",
       "3  12  6  6    +5  +3  +2  73%  74%  72%  128  127  129  35%  43%  28%   \n",
       "4  14  7  7    -7  +2  -9  76%  79%  72%    95  153  34  25%  25%  27%   \n",
       "\n",
       "        FK       FD       +/–.1  \n",
       "0  4  3  1  6  4  2  -2  -1  -1  \n",
       "1  1  1  0  1  1  0     0  0  0  \n",
       "2  7  3  4  6  2  4   +1  +1  0  \n",
       "3  5  1  4  3  1  2   +2  0  +2  \n",
       "4  2  2  0  2  1  1   0  +1  -1  "
      ]
     },
     "execution_count": 5,
     "metadata": {},
     "output_type": "execute_result"
    }
   ],
   "source": [
    "def clean_data(df):\n",
    "    del df['Unnamed: 1']\n",
    "    df['Name'] = 'x'\n",
    "    df['Team'] = 'x'\n",
    "\n",
    "    for i in df.index:\n",
    "        s = df.loc[i, 'Unnamed: 0'].split()\n",
    "        df.loc[i]['Name'] = s[0]\n",
    "        df.loc[i]['Team']=s[1]\n",
    "\n",
    "    del df['Unnamed: 0']\n",
    "    del df['+/–']\n",
    "    del df['+/–.1']\n",
    "\n",
    "    for i in df.index:\n",
    "        for col in df.columns:\n",
    "            s = df.loc[i][col].split(\" \")\n",
    "            df.loc[i][col] = s[0]\n",
    "            if col == 'D':\n",
    "                df.loc[i][col] = s[2]\n",
    "\n",
    "\n",
    "dfs = pd.read_html(link_list[0])\n",
    "\n",
    "df = dfs[3]\n",
    "df1 = dfs[2]\n",
    "\n",
    "df.head(5)\n"
   ]
  },
  {
   "cell_type": "code",
   "execution_count": 6,
   "id": "22be713d",
   "metadata": {},
   "outputs": [],
   "source": [
    "def convert_percentage(df):\n",
    "    for i in df.index:\n",
    "        df.loc[i]['KAST'] = df.loc[i]['KAST'].replace('%','')\n",
    "        df.loc[i]['KAST'] = (int(df.loc[i]['KAST']))/100\n",
    "        \n",
    "        df.loc[i]['HS%'] = df.loc[i]['HS%'].replace('%','')\n",
    "        df.loc[i]['HS%'] = (int(df.loc[i]['HS%']))/100"
   ]
  },
  {
   "cell_type": "code",
   "execution_count": 7,
   "id": "5e3d0f22",
   "metadata": {},
   "outputs": [
    {
     "name": "stdout",
     "output_type": "stream",
     "text": [
      "['284' '38' '23' '8' 0.76 '182' 0.2 '4' '6' 'Asuna' '100T']\n"
     ]
    }
   ],
   "source": [
    "clean_data(df)\n",
    "convert_percentage(df)\n",
    "df.head(5)\n",
    "\n",
    "print(df.iloc[0].to_numpy())"
   ]
  },
  {
   "cell_type": "code",
   "execution_count": 8,
   "id": "bad5dee3",
   "metadata": {},
   "outputs": [
    {
     "data": {
      "text/html": [
       "<div>\n",
       "<style scoped>\n",
       "    .dataframe tbody tr th:only-of-type {\n",
       "        vertical-align: middle;\n",
       "    }\n",
       "\n",
       "    .dataframe tbody tr th {\n",
       "        vertical-align: top;\n",
       "    }\n",
       "\n",
       "    .dataframe thead th {\n",
       "        text-align: right;\n",
       "    }\n",
       "</style>\n",
       "<table border=\"1\" class=\"dataframe\">\n",
       "  <thead>\n",
       "    <tr style=\"text-align: right;\">\n",
       "      <th></th>\n",
       "      <th>ACS</th>\n",
       "      <th>K</th>\n",
       "      <th>D</th>\n",
       "      <th>A</th>\n",
       "      <th>KAST</th>\n",
       "      <th>ADR</th>\n",
       "      <th>HS%</th>\n",
       "      <th>FK</th>\n",
       "      <th>FD</th>\n",
       "      <th>Name</th>\n",
       "      <th>Team</th>\n",
       "    </tr>\n",
       "  </thead>\n",
       "  <tbody>\n",
       "    <tr>\n",
       "      <th>0</th>\n",
       "      <td>282</td>\n",
       "      <td>38</td>\n",
       "      <td>29</td>\n",
       "      <td>3</td>\n",
       "      <td>0.59</td>\n",
       "      <td>182</td>\n",
       "      <td>0.27</td>\n",
       "      <td>5</td>\n",
       "      <td>3</td>\n",
       "      <td>Sayaplayer</td>\n",
       "      <td>TGRD</td>\n",
       "    </tr>\n",
       "    <tr>\n",
       "      <th>1</th>\n",
       "      <td>192</td>\n",
       "      <td>23</td>\n",
       "      <td>27</td>\n",
       "      <td>7</td>\n",
       "      <td>0.62</td>\n",
       "      <td>118</td>\n",
       "      <td>0.3</td>\n",
       "      <td>2</td>\n",
       "      <td>1</td>\n",
       "      <td>trent</td>\n",
       "      <td>TGRD</td>\n",
       "    </tr>\n",
       "    <tr>\n",
       "      <th>2</th>\n",
       "      <td>191</td>\n",
       "      <td>21</td>\n",
       "      <td>30</td>\n",
       "      <td>11</td>\n",
       "      <td>0.7</td>\n",
       "      <td>125</td>\n",
       "      <td>0.11</td>\n",
       "      <td>9</td>\n",
       "      <td>6</td>\n",
       "      <td>JonahP</td>\n",
       "      <td>TGRD</td>\n",
       "    </tr>\n",
       "    <tr>\n",
       "      <th>3</th>\n",
       "      <td>167</td>\n",
       "      <td>21</td>\n",
       "      <td>27</td>\n",
       "      <td>13</td>\n",
       "      <td>0.76</td>\n",
       "      <td>101</td>\n",
       "      <td>0.19</td>\n",
       "      <td>2</td>\n",
       "      <td>2</td>\n",
       "      <td>valyn</td>\n",
       "      <td>TGRD</td>\n",
       "    </tr>\n",
       "    <tr>\n",
       "      <th>4</th>\n",
       "      <td>83</td>\n",
       "      <td>9</td>\n",
       "      <td>32</td>\n",
       "      <td>5</td>\n",
       "      <td>0.46</td>\n",
       "      <td>63</td>\n",
       "      <td>0.18</td>\n",
       "      <td>0</td>\n",
       "      <td>7</td>\n",
       "      <td>neT</td>\n",
       "      <td>TGRD</td>\n",
       "    </tr>\n",
       "  </tbody>\n",
       "</table>\n",
       "</div>"
      ],
      "text/plain": [
       "   ACS   K   D   A  KAST  ADR   HS% FK FD        Name  Team\n",
       "0  282  38  29   3  0.59  182  0.27  5  3  Sayaplayer  TGRD\n",
       "1  192  23  27   7  0.62  118   0.3  2  1       trent  TGRD\n",
       "2  191  21  30  11   0.7  125  0.11  9  6      JonahP  TGRD\n",
       "3  167  21  27  13  0.76  101  0.19  2  2       valyn  TGRD\n",
       "4   83   9  32   5  0.46   63  0.18  0  7         neT  TGRD"
      ]
     },
     "execution_count": 8,
     "metadata": {},
     "output_type": "execute_result"
    }
   ],
   "source": [
    "clean_data(df1)\n",
    "convert_percentage(df1)\n",
    "df1.head(5)"
   ]
  },
  {
   "cell_type": "code",
   "execution_count": 9,
   "id": "904ff6bf",
   "metadata": {},
   "outputs": [],
   "source": [
    "class Player():\n",
    "    def __init__(self, arr):\n",
    "        self.name = arr[9]\n",
    "        self.team = arr[10]\n",
    "        self.acs = float(arr[0])  \n",
    "        self.k =float(arr[1]) \n",
    "        self.d =float(arr[2])  \n",
    "        self.a =float(arr[3]) \n",
    "        self.kast =float(arr[4]) \n",
    "        self.adr =float(arr[5]) \n",
    "        self.hsp =float(arr[6]) \n",
    "        self.fk =float(arr[7]) \n",
    "        self.fd =float(arr[8]) \n",
    "        self.games = 1\n",
    "    \n",
    "    def set_stats(self, arr):\n",
    "        self.games +=1\n",
    "        self.acs += float(arr[0])  \n",
    "        self.k +=float(arr[1]) \n",
    "        self.d +=float(arr[2])  \n",
    "        self.a +=float(arr[3]) \n",
    "        self.kast +=float(arr[4]) \n",
    "        self.adr +=float(arr[5]) \n",
    "        self.hsp +=float(arr[6]) \n",
    "        self.fk +=float(arr[7]) \n",
    "        self.fd +=float(arr[8]) \n",
    "    def get_name(self):\n",
    "        return self.name\n",
    "    \n",
    "    def get_stats(self):\n",
    "        return [self.name, self.team, self.acs/self.games, self.k/self.games, self.d/self.games, self.a/self.games, self.kast/self.games, self.adr/self.games, self.hsp/self.games, self.fk/self.games, self.fd/self.games]"
   ]
  },
  {
   "cell_type": "code",
   "execution_count": 10,
   "id": "f87dfe1b",
   "metadata": {},
   "outputs": [],
   "source": [
    "player_names =[]\n",
    "player_list =[]"
   ]
  },
  {
   "cell_type": "code",
   "execution_count": 11,
   "id": "69b8fc81",
   "metadata": {},
   "outputs": [
    {
     "name": "stdout",
     "output_type": "stream",
     "text": [
      "['Sayaplayer', 'trent', 'JonahP', 'valyn', 'neT', 'Asuna', 'stellar', 'Will', 'bang', 'Derrek', 'yay', 'Marved', 'crashies', 'FNS', 'Victor', 'dicey', 'BABYBAY', 'supamen', 'POISED', 'Poach', 'Ethan', 's0m', 'tex', 'eeiu', 'hazed', 'corey', 'Rossy', 'seven', 'gMd', 'Subroza', 'flyuh', 'mada', 'bdog', 'TiGG', 'dazzLe', 'moose', 'Xeppaa', 'leaf', 'mitch', 'curry', 'vanity', 'dapr', 'ShahZaM', 'Rawkus', 'Dani', 'Kanpeki', 'Cryocells', 'zekken', 'BcJ', 'dephh', 'AYRIN', 'TenZ', 'SicK', 'NiSMO', 'koalanoob', 'johnqt', 'aproto', 'brawk', 'xeta', 'jawgemo', 'Boostio', 'Apoth', 'C0M', 'Reformed']\n"
     ]
    }
   ],
   "source": [
    "for link in link_list:\n",
    "    dfs = pd.read_html(link)\n",
    "    df = dfs[2]\n",
    "    df1 = dfs[3]\n",
    "    clean_data(df)\n",
    "    clean_data(df1)\n",
    "    convert_percentage(df)\n",
    "    convert_percentage(df1)\n",
    "    for x, i in enumerate(df.index):\n",
    "        if df.loc[i]['Name'] in player_names:\n",
    "            index = player_names.index(df.loc[i]['Name'])\n",
    "            player_list[index].set_stats(df.iloc[i].to_numpy())\n",
    "        else:\n",
    "            player_list.append(Player(df.iloc[i].to_numpy()))\n",
    "            player_names.append(df.loc[i]['Name'])\n",
    "    for x, i in enumerate(df1.index):\n",
    "        if df1.loc[i]['Name'] in player_names:\n",
    "            index = player_names.index(df1.loc[i]['Name'])\n",
    "            player_list[index].set_stats(df1.iloc[i].to_numpy())\n",
    "        else:\n",
    "            player_list.append(Player(df1.iloc[i].to_numpy()))\n",
    "            player_names.append(df1.loc[i]['Name'])\n",
    "print(player_names)"
   ]
  },
  {
   "cell_type": "code",
   "execution_count": 12,
   "id": "59f35707",
   "metadata": {},
   "outputs": [],
   "source": [
    "main_df = pd.DataFrame(columns = ['Name', 'Team', 'ACS', 'K', 'D', 'A', 'KAST', 'ADR', 'HS%', 'FK', 'FD'])\n",
    "for player in player_list:\n",
    "    main_df.loc[len(main_df)] = player.get_stats()\n",
    "main_df.head(100)\n",
    "\n",
    "main_df.to_excel('VCTS2NAGroups.xlsx', sheet_name='GROUPS')\n",
    "#main_df.to_csv('VCTS2NAGroups.csv')"
   ]
  }
 ],
 "metadata": {
  "kernelspec": {
   "display_name": "Python 3 (ipykernel)",
   "language": "python",
   "name": "python3"
  },
  "language_info": {
   "codemirror_mode": {
    "name": "ipython",
    "version": 3
   },
   "file_extension": ".py",
   "mimetype": "text/x-python",
   "name": "python",
   "nbconvert_exporter": "python",
   "pygments_lexer": "ipython3",
   "version": "3.10.5"
  }
 },
 "nbformat": 4,
 "nbformat_minor": 5
}
