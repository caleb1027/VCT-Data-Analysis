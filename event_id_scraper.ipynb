{
 "cells": [
  {
   "cell_type": "markdown",
   "id": "64425507",
   "metadata": {},
   "source": [
    "# Event ID Scraper\n",
    "\n",
    "#### The goal of this program is to scrape all event IDs of every North American Valorant Champions Tour main event ID."
   ]
  },
  {
   "cell_type": "markdown",
   "id": "f12399f3",
   "metadata": {},
   "source": [
    "# Importing Packages"
   ]
  },
  {
   "cell_type": "code",
   "execution_count": 1,
   "id": "9a0ecdbf",
   "metadata": {},
   "outputs": [],
   "source": [
    "import requests\n",
    "from bs4 import BeautifulSoup\n",
    "import numpy as np\n",
    "import pandas as pd\n",
    "import html5lib"
   ]
  },
  {
   "cell_type": "markdown",
   "id": "c73a385a",
   "metadata": {},
   "source": [
    "# Downloading the Page\n",
    "Using requests to download the web page with all North American events as HTML."
   ]
  },
  {
   "cell_type": "code",
   "execution_count": 2,
   "id": "51f1e3f4",
   "metadata": {},
   "outputs": [
    {
     "data": {
      "text/plain": [
       "<Response [200]>"
      ]
     },
     "execution_count": 2,
     "metadata": {},
     "output_type": "execute_result"
    }
   ],
   "source": [
    "main_link = \"https://www.vlr.gg/events/north-america\"\n",
    "resp = requests.get(main_link)\n",
    "resp"
   ]
  },
  {
   "cell_type": "code",
   "execution_count": 3,
   "id": "213fdbda",
   "metadata": {},
   "outputs": [],
   "source": [
    "#Converts the HTML webpage to text using BeautifulSoup\n",
    "soup = BeautifulSoup(resp.text)\n",
    "#Finds the links to all VCT NA events\n",
    "all_events = [i['href'] for i in soup.find_all('a',class_ ='wf-card mod-flex event-item', href=True)]"
   ]
  },
  {
   "cell_type": "code",
   "execution_count": 4,
   "id": "8a39ed9c",
   "metadata": {
    "scrolled": true
   },
   "outputs": [
    {
     "data": {
      "text/plain": [
       "['1130',\n",
       " '800',\n",
       " '799',\n",
       " '558',\n",
       " '578',\n",
       " '576',\n",
       " '520',\n",
       " '372',\n",
       " '371',\n",
       " '370',\n",
       " '333',\n",
       " '324',\n",
       " '306',\n",
       " '291']"
      ]
     },
     "execution_count": 4,
     "metadata": {},
     "output_type": "execute_result"
    }
   ],
   "source": [
    "vct_links = []\n",
    "#Parses through each link to extract the series ID\n",
    "for event in all_events:\n",
    "    ce = event.split('/')\n",
    "    if(\"champions-tour-north-america\" in ce[3]):\n",
    "        vct_links.append(ce[2])\n",
    "vct_links"
   ]
  },
  {
   "cell_type": "code",
   "execution_count": 5,
   "id": "429c3fcf",
   "metadata": {
    "scrolled": true
   },
   "outputs": [
    {
     "data": {
      "text/plain": [
       "['/event/matches/1130/?series_id=2190',\n",
       " '/event/matches/800/?series_id=1953',\n",
       " '/event/matches/800/?series_id=1561',\n",
       " '/event/matches/799/?series_id=1737',\n",
       " '/event/matches/799/?series_id=1559',\n",
       " '/event/matches/558/?series_id=1094',\n",
       " '/event/matches/578/?series_id=1195',\n",
       " '/event/matches/576/?series_id=1132',\n",
       " '/event/matches/520/?series_id=1131',\n",
       " '/event/matches/372/?series_id=770',\n",
       " '/event/matches/371/?series_id=769',\n",
       " '/event/matches/370/?series_id=767',\n",
       " '/event/matches/333/?series_id=690',\n",
       " '/event/matches/324/?series_id=664',\n",
       " '/event/matches/306/?series_id=618',\n",
       " '/event/matches/291/?series_id=592']"
      ]
     },
     "execution_count": 5,
     "metadata": {},
     "output_type": "execute_result"
    }
   ],
   "source": [
    "base_link = \"https://www.vlr.gg/event/matches/\"\n",
    "event_links = []\n",
    "\n",
    "for link in vct_links:\n",
    "    #Uses requests and BeautifulSoup to download webpage\n",
    "    res = requests.get(base_link+link)\n",
    "    newsoup = BeautifulSoup(res.text)\n",
    "    temparr = []\n",
    "    \n",
    "    #Uses BeautifulSoup to find all links to each stage of each event\n",
    "    newlinks = newsoup.find('span', class_='btn mod-filter js-dropdown').findAll('a')\n",
    "    \n",
    "    #Appends the URL to every main stage of each event\n",
    "    for i in newlinks:\n",
    "        href = str(i).split('\"')\n",
    "        temparr.append(href[1])\n",
    "    \n",
    "    #Adjusting for lesser number of stages in 2022 and LCQ\n",
    "    if(len(temparr)<=3):\n",
    "        event_links.append(temparr[1])\n",
    "    else:\n",
    "        event_links.append(temparr[1])\n",
    "        event_links.append(temparr[2])\n",
    "        \n",
    "\n",
    "event_links\n",
    "    "
   ]
  },
  {
   "cell_type": "code",
   "execution_count": 6,
   "id": "2ef867c2",
   "metadata": {},
   "outputs": [
    {
     "data": {
      "text/plain": [
       "[['1130', '2190'],\n",
       " ['800', '1953'],\n",
       " ['800', '1561'],\n",
       " ['799', '1737'],\n",
       " ['799', '1559'],\n",
       " ['558', '1094'],\n",
       " ['578', '1195'],\n",
       " ['576', '1132'],\n",
       " ['520', '1131'],\n",
       " ['372', '770'],\n",
       " ['371', '769'],\n",
       " ['370', '767'],\n",
       " ['333', '690'],\n",
       " ['324', '664'],\n",
       " ['306', '618'],\n",
       " ['291', '592']]"
      ]
     },
     "execution_count": 6,
     "metadata": {},
     "output_type": "execute_result"
    }
   ],
   "source": [
    "event_ids = []\n",
    "\n",
    "#Finds the event ID and series ID of each main stage\n",
    "for event in event_links:\n",
    "    temp = event.split('/')\n",
    "    temp = temp[3:]\n",
    "    temp[1] = temp[1][11:]\n",
    "    event_ids.append(temp)\n",
    "event_links = event_ids\n",
    "event_links\n",
    "\n",
    "    "
   ]
  }
 ],
 "metadata": {
  "kernelspec": {
   "display_name": "Python 3 (ipykernel)",
   "language": "python",
   "name": "python3"
  },
  "language_info": {
   "codemirror_mode": {
    "name": "ipython",
    "version": 3
   },
   "file_extension": ".py",
   "mimetype": "text/x-python",
   "name": "python",
   "nbconvert_exporter": "python",
   "pygments_lexer": "ipython3",
   "version": "3.10.7"
  }
 },
 "nbformat": 4,
 "nbformat_minor": 5
}
